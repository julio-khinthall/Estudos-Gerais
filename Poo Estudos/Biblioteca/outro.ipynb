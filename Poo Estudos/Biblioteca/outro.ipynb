{
 "cells": [
  {
   "cell_type": "code",
   "execution_count": 81,
   "metadata": {},
   "outputs": [],
   "source": [
    "import pandas as pd\n",
    "from datetime import datetime, timedelta\n",
    "import tkinter as tk\n",
    "from tkinter import ttk\n",
    "pd.set_option('display.max_columns', None)"
   ]
  },
  {
   "cell_type": "code",
   "execution_count": 82,
   "metadata": {},
   "outputs": [],
   "source": [
    "#lendo o banco de dados:\n",
    "biblioteca = pd.read_excel(r\"C:\\Users\\julio\\Documents\\Pasta GIT\\Poo Estudos\\biblioteca.xlsx\")\n",
    "clientes = pd.read_excel(r'C:\\Users\\julio\\Documents\\Pasta GIT\\Poo Estudos\\Clientes_cadastrados.xlsx')"
   ]
  },
  {
   "cell_type": "code",
   "execution_count": 76,
   "metadata": {},
   "outputs": [],
   "source": [
    "#Funções para atualizar o locador:\n",
    "\n",
    "def atualizar_usuario(nome_do_livro, locador):\n",
    "    print(f\"Atualizando locador para o livro: {nome_do_livro}\")\n",
    "    biblioteca['Nome do livro'] = biblioteca['Nome do livro'].str.strip().str.lower()\n",
    "    nome_do_livro = nome_do_livro.strip().lower()\n",
    "    biblioteca.loc[biblioteca['Nome do livro'] == nome_do_livro, 'locador'] = locador\n",
    "\n",
    "\n",
    "def atualizar_cpf(nome_do_livro, cpf):\n",
    "    biblioteca['Nome do livro'] = biblioteca['Nome do livro'].str.strip().str.lower()\n",
    "    nome_do_livro = nome_do_livro.strip().lower()\n",
    "    biblioteca.loc[biblioteca['Nome do livro'] == nome_do_livro, 'CPF'] = cpf\n",
    "\n",
    "\n",
    "def atualizar_data_retirada(nome_do_livro, data_locada):\n",
    "    biblioteca['Nome do livro'] = biblioteca['Nome do livro'].str.strip().str.lower()\n",
    "    nome_do_livro = nome_do_livro.strip().lower()\n",
    "    biblioteca.loc[biblioteca['Nome do livro'] == nome_do_livro, 'data da locação'] = data_locada\n",
    "    data_locada = datetime.strptime(data_locada,'%d/%m/%Y')\n",
    "    data_devolver = data_locada + timedelta(days=5)\n",
    "    data_devolver = data_devolver.strftime('%d/%m/%Y')\n",
    "    biblioteca.loc[biblioteca['Nome do livro'] == nome_do_livro, 'Previsão de devolutiva'] = data_devolver\n",
    "\n",
    "\n",
    "def Multa(nome_do_livro,devolveu):\n",
    "    devolveu= datetime.strptime(devolveu,'%d/%m/%Y')\n",
    "    biblioteca.loc[biblioteca['Nome do livro'] == nome_do_livro, 'Data devolvida'] = devolveu\n",
    "            \n",
    "    previsto= biblioteca.loc[biblioteca['Nome do livro'] == nome_do_livro, 'Previsão de devolutiva'].values \n",
    "    previsto =previsto[0]\n",
    "    previsto = datetime.strptime(previsto,'%d/%m/%Y') \n",
    "    \n",
    "    if previsto< devolveu:\n",
    "        biblioteca.loc[biblioteca['Nome do livro'] == nome_do_livro, 'Multa'] = \"SIM\"\n",
    "        dif = (devolveu - previsto).days\n",
    "        biblioteca.loc[biblioteca['Nome do livro'] == nome_do_livro, 'Valor'] = dif * 5.00\n",
    "        \n",
    "    else:\n",
    "        biblioteca.loc[biblioteca['Nome do livro'] == nome_do_livro, 'Multa'] = \"NÂO\"\n",
    "        biblioteca.loc[biblioteca['Nome do livro'] == nome_do_livro, 'Valor'] = 0\n"
   ]
  },
  {
   "cell_type": "code",
   "execution_count": null,
   "metadata": {},
   "outputs": [],
   "source": [
    "class cadastro:\n",
    "    def __init__(self,nome,cpf,nascimento,telefone,endereco,bairro,cidade,cep,obs):\n",
    "        self.nome=nome\n",
    "        self.cpf=cpf\n",
    "        self.nascimento=nascimento\n",
    "        self.telefone=telefone\n",
    "        self.Endereco= endereco \n",
    "        self.Bairro=bairro\n",
    "        self.Cidade=cidade\n",
    "        self.cep=cep\n",
    "        self.obs=obs\n",
    "        \n",
    "    def linha_vazia(self,coluna):\n",
    "        return clientes[clientes[coluna].isna()].index[0]\n",
    "            \n",
    "                \n",
    "    def CPF_cadastro(self):\n",
    "        if self.cpf not in clientes['CPF'].values: \n",
    "            clientes.at[self.linha_vazia('CPF'), 'CPF'] = self.cpf \n",
    "            return True\n",
    "        else:\n",
    "            return  False\n",
    "        \n",
    "    def cadastrar_atributo(self):\n",
    "        if self.CPF_cadastro(): \n",
    "            clientes.at[self.linha_vazia('Nome'), 'Nome'] = self.nome\n",
    "            clientes.at[self.linha_vazia('Data de nascimento'), 'Data de nascimento'] = self.nascimento\n",
    "            clientes.at[self.linha_vazia('Telefone'), 'Telefone'] = self.telefone\n",
    "            clientes.at[self.linha_vazia('Endereço'), 'Endereço'] = self.Endereco\n",
    "            clientes.at[self.linha_vazia('Bairro'), 'Bairro'] = self.Bairro\n",
    "            clientes.at[self.linha_vazia('Cidade'), 'Cidade'] = self.Cidade\n",
    "            clientes.at[self.linha_vazia('CEP'), 'CEP'] = self.cep\n",
    "            clientes.at[self.linha_vazia('Observações'), 'Observações'] = self.obs\n",
    "        else:\n",
    "            return \"CPF já cadastrado\""
   ]
  }
 ],
 "metadata": {
  "kernelspec": {
   "display_name": "Python 3",
   "language": "python",
   "name": "python3"
  },
  "language_info": {
   "codemirror_mode": {
    "name": "ipython",
    "version": 3
   },
   "file_extension": ".py",
   "mimetype": "text/x-python",
   "name": "python",
   "nbconvert_exporter": "python",
   "pygments_lexer": "ipython3",
   "version": "3.12.3"
  }
 },
 "nbformat": 4,
 "nbformat_minor": 2
}
